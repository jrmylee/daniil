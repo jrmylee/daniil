{
 "cells": [
  {
   "cell_type": "code",
   "execution_count": 2,
   "id": "92d60299",
   "metadata": {},
   "outputs": [
    {
     "ename": "ModuleNotFoundError",
     "evalue": "No module named 'pandas'",
     "output_type": "error",
     "traceback": [
      "\u001b[0;31m---------------------------------------------------------------------------\u001b[0m",
      "\u001b[0;31mModuleNotFoundError\u001b[0m                       Traceback (most recent call last)",
      "\u001b[0;32m/var/folders/_y/mypdb6x912s_f462r_0p7s100000gn/T/ipykernel_83441/686744744.py\u001b[0m in \u001b[0;36m<module>\u001b[0;34m\u001b[0m\n\u001b[0;32m----> 1\u001b[0;31m \u001b[0;32mimport\u001b[0m \u001b[0mpandas\u001b[0m \u001b[0;32mas\u001b[0m \u001b[0mpd\u001b[0m\u001b[0;34m\u001b[0m\u001b[0;34m\u001b[0m\u001b[0m\n\u001b[0m\u001b[1;32m      2\u001b[0m \u001b[0;32mimport\u001b[0m \u001b[0mos\u001b[0m\u001b[0;34m\u001b[0m\u001b[0;34m\u001b[0m\u001b[0m\n\u001b[1;32m      3\u001b[0m \u001b[0;32mimport\u001b[0m \u001b[0mtensorflow\u001b[0m \u001b[0;32mas\u001b[0m \u001b[0mtf\u001b[0m\u001b[0;34m\u001b[0m\u001b[0;34m\u001b[0m\u001b[0m\n\u001b[1;32m      4\u001b[0m \u001b[0;34m\u001b[0m\u001b[0m\n\u001b[1;32m      5\u001b[0m \u001b[0mAUTOTUNE\u001b[0m \u001b[0;34m=\u001b[0m \u001b[0mtf\u001b[0m\u001b[0;34m.\u001b[0m\u001b[0mdata\u001b[0m\u001b[0;34m.\u001b[0m\u001b[0mexperimental\u001b[0m\u001b[0;34m.\u001b[0m\u001b[0mAUTOTUNE\u001b[0m\u001b[0;34m\u001b[0m\u001b[0;34m\u001b[0m\u001b[0m\n",
      "\u001b[0;31mModuleNotFoundError\u001b[0m: No module named 'pandas'"
     ]
    }
   ],
   "source": [
    "import pandas as pd\n",
    "import os\n",
    "import tensorflow as tf\n",
    "\n",
    "AUTOTUNE = tf.data.experimental.AUTOTUNE\n",
    "\n",
    "root_dir = \"/home/jerms/data/maestro-v3.0.0\"\n",
    "csv_name = \"maestro-v3.0.0.csv\"\n",
    "_SEED = 2021\n",
    "\n",
    "def get_training_set():\n",
    "    csv_dir = os.path.join(root_dir, csv_name)\n",
    "    \n",
    "    df = pd.read_csv(csv_dir)\n",
    "    ds = get_dataset(df)\n",
    "    \n",
    "    train_ds = prepare_for_training(ds)\n",
    "\n",
    "    batch_size = 64\n",
    "    train_steps = len(df) / batch_size\n",
    "    \n",
    "    return train_ds\n",
    "\n",
    "def get_dataset(csv, ds_dir=root_dir):\n",
    "    audio_filenames, midi_filenames = [], []\n",
    "    for row in csv:\n",
    "        audio, midi = row[\"audio_filename\"], row[\"midi_filename\"]\n",
    "        audio_filenames.append(audio)\n",
    "        midi_filenames.append(midi)\n",
    "    \n",
    "    audio, midi = tf.constant(audio_filenames), tf.constant(midi_filenames)\n",
    "    dataset = tf.data.Dataset.from_tensor_slices((audio, midi))    \n",
    "    return dataset\n",
    "\n",
    "def load_audio(audio_filepath, midi_filepath):\n",
    "    audio = tf.io.read_file(file_path)\n",
    "    audio, sample_rate = tf.audio.decode_wave(audio, desired_chnnels=1, desired_samples=44100)\n",
    "    return audio, midi_filepath\n",
    "\n",
    "def prepare_for_training(ds, shuffle_buffer_size=1024, batch_size=64):\n",
    "    # Randomly shuffle (file_path, label) dataset\n",
    "    ds = ds.shuffle(buffer_size=shuffle_buffer_size)\n",
    "    # Load and decode audio from file paths\n",
    "    ds = ds.map(load_audio, num_parallel_calls=AUTOTUNE)\n",
    "    # Repeat dataset forever\n",
    "    ds = ds.repeat()\n",
    "    # Prepare batches\n",
    "    ds = ds.batch(batch_size)\n",
    "    # Prefetch\n",
    "    ds = ds.prefetch(buffer_size=AUTOTUNE)\n",
    "\n",
    "    return ds\n",
    "        \n",
    "    "
   ]
  },
  {
   "cell_type": "code",
   "execution_count": null,
   "id": "70d2d2b9",
   "metadata": {},
   "outputs": [],
   "source": []
  }
 ],
 "metadata": {
  "kernelspec": {
   "display_name": "new_vae",
   "language": "python",
   "name": "new_vae"
  },
  "language_info": {
   "codemirror_mode": {
    "name": "ipython",
    "version": 3
   },
   "file_extension": ".py",
   "mimetype": "text/x-python",
   "name": "python",
   "nbconvert_exporter": "python",
   "pygments_lexer": "ipython3",
   "version": "3.8.7"
  }
 },
 "nbformat": 4,
 "nbformat_minor": 5
}
