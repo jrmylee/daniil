{
 "cells": [
  {
   "cell_type": "code",
   "execution_count": 1,
   "id": "38b1b255",
   "metadata": {},
   "outputs": [],
   "source": [
    "from tensorflow import keras\n",
    "from tensorflow.keras import layers\n",
    "from models.vqvae2 import *"
   ]
  },
  {
   "cell_type": "code",
   "execution_count": 2,
   "id": "9fcc3417",
   "metadata": {},
   "outputs": [
    {
     "name": "stderr",
     "output_type": "stream",
     "text": [
      "2021-10-30 17:37:47.678305: I tensorflow/core/platform/cpu_feature_guard.cc:142] This TensorFlow binary is optimized with oneAPI Deep Neural Network Library (oneDNN) to use the following CPU instructions in performance-critical operations:  AVX2 FMA\n",
      "To enable them in other operations, rebuild TensorFlow with the appropriate compiler flags.\n"
     ]
    }
   ],
   "source": [
    "model = VQVAETrainer(latent_dim=None, num_embeddings=None)\n",
    "model.load_weights(\"./saved_models/savio_model_1\")\n",
    "model.compile(optimizer=keras.optimizers.Adam())"
   ]
  },
  {
   "cell_type": "code",
   "execution_count": 3,
   "id": "a2003578",
   "metadata": {},
   "outputs": [
    {
     "name": "stdout",
     "output_type": "stream",
     "text": [
      "Model: \"vq_vae\"\n",
      "__________________________________________________________________________________________________\n",
      "Layer (type)                    Output Shape         Param #     Connected to                     \n",
      "==================================================================================================\n",
      "input_5 (InputLayer)            [(None, 1024, 88, 1) 0                                            \n",
      "__________________________________________________________________________________________________\n",
      "model (Functional)              (None, 256, 22, 128) 427648      input_5[0][0]                    \n",
      "__________________________________________________________________________________________________\n",
      "model_1 (Functional)            (None, 128, 11, 128) 352768      model[0][0]                      \n",
      "__________________________________________________________________________________________________\n",
      "conv2d_23 (Conv2D)              (None, 128, 11, 64)  8256        model_1[0][0]                    \n",
      "__________________________________________________________________________________________________\n",
      "vector_quantizer (VectorQuantiz (None, 128, 11, 64)  32768       conv2d_23[0][0]                  \n",
      "__________________________________________________________________________________________________\n",
      "model_2 (Functional)            (None, 256, 22, 64)  352768      vector_quantizer[0][0]           \n",
      "__________________________________________________________________________________________________\n",
      "concatenate (Concatenate)       (None, 256, 22, 192) 0           model_2[0][0]                    \n",
      "                                                                 model[0][0]                      \n",
      "__________________________________________________________________________________________________\n",
      "conv2d_24 (Conv2D)              (None, 256, 22, 64)  12352       concatenate[0][0]                \n",
      "__________________________________________________________________________________________________\n",
      "conv2d_transpose_3 (Conv2DTrans (None, 256, 22, 64)  65600       vector_quantizer[0][0]           \n",
      "__________________________________________________________________________________________________\n",
      "vector_quantizer_1 (VectorQuant (None, 256, 22, 64)  32768       conv2d_24[0][0]                  \n",
      "__________________________________________________________________________________________________\n",
      "concatenate_1 (Concatenate)     (None, 256, 22, 128) 0           conv2d_transpose_3[0][0]         \n",
      "                                                                 vector_quantizer_1[0][0]         \n",
      "__________________________________________________________________________________________________\n",
      "model_3 (Functional)            (None, 1024, 88, 1)  427521      concatenate_1[0][0]              \n",
      "==================================================================================================\n",
      "Total params: 1,712,449\n",
      "Trainable params: 1,712,449\n",
      "Non-trainable params: 0\n",
      "__________________________________________________________________________________________________\n"
     ]
    }
   ],
   "source": [
    "model.vqvae.summary()"
   ]
  },
  {
   "cell_type": "code",
   "execution_count": null,
   "id": "f71450ff",
   "metadata": {},
   "outputs": [],
   "source": [
    "def split(model, start, end):\n",
    "    confs = model.get_config()\n",
    "    kept_layers = set()\n",
    "    for i, l in enumerate(confs['layers']):\n",
    "        if i == 0:\n",
    "            confs['layers'][0]['config']['batch_input_shape'] = model.layers[start].input_shape\n",
    "            if i != start:\n",
    "                confs['layers'][0]['name'] += str(random.randint(0, 100000000)) # rename the input layer to avoid conflicts on merge\n",
    "                confs['layers'][0]['config']['name'] = confs['layers'][0]['name']\n",
    "        elif i < start or i > end:\n",
    "            continue\n",
    "        kept_layers.add(l['name'])\n",
    "    # filter layers\n",
    "    layers = [l for l in confs['layers'] if l['name'] in kept_layers]\n",
    "    layers[1]['inbound_nodes'][0][0][0] = layers[0]['name']\n",
    "    # set conf\n",
    "    confs['layers'] = layers\n",
    "    confs['input_layers'][0][0] = layers[0]['name']\n",
    "    confs['output_layers'][0][0] = layers[-1]['name']\n",
    "    # create new model\n",
    "    submodel = Model.from_config(confs)\n",
    "    for l in submodel.layers:\n",
    "        orig_l = model.get_layer(l.name)\n",
    "        if orig_l is not None:\n",
    "            l.set_weights(orig_l.get_weights())\n",
    "    return submodel\n"
   ]
  },
  {
   "cell_type": "code",
   "execution_count": 6,
   "id": "88f5ae2c",
   "metadata": {},
   "outputs": [],
   "source": [
    "random_input = tf.random.uniform(shape=[16, 1024, 88, 1])"
   ]
  },
  {
   "cell_type": "code",
   "execution_count": 8,
   "id": "945dd5cb",
   "metadata": {},
   "outputs": [
    {
     "data": {
      "text/plain": [
       "(<tf.Tensor: shape=(22528,), dtype=int64, numpy=array([353, 353, 353, ..., 353, 353, 447])>,\n",
       " <tf.Tensor: shape=(22528,), dtype=int64, numpy=array([384, 120, 369, ..., 120, 369, 369])>)"
      ]
     },
     "execution_count": 8,
     "metadata": {},
     "output_type": "execute_result"
    }
   ],
   "source": [
    "model.top_and_bottom_indices(random_input)"
   ]
  },
  {
   "cell_type": "code",
   "execution_count": null,
   "id": "95f447cc",
   "metadata": {},
   "outputs": [],
   "source": []
  }
 ],
 "metadata": {
  "kernelspec": {
   "display_name": "new_vae",
   "language": "python",
   "name": "new_vae"
  },
  "language_info": {
   "codemirror_mode": {
    "name": "ipython",
    "version": 3
   },
   "file_extension": ".py",
   "mimetype": "text/x-python",
   "name": "python",
   "nbconvert_exporter": "python",
   "pygments_lexer": "ipython3",
   "version": "3.8.7"
  }
 },
 "nbformat": 4,
 "nbformat_minor": 5
}
