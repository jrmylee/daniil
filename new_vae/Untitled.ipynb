{
 "cells": [
  {
   "cell_type": "code",
   "execution_count": 1,
   "id": "ad6eb687",
   "metadata": {},
   "outputs": [],
   "source": [
    "import librosa"
   ]
  },
  {
   "cell_type": "code",
   "execution_count": 3,
   "id": "dafe2799",
   "metadata": {},
   "outputs": [],
   "source": [
    "mels = librosa.filters.mel(sr=22050, n_fft=2048, n_mels=256)"
   ]
  },
  {
   "cell_type": "code",
   "execution_count": 4,
   "id": "aba2053e",
   "metadata": {},
   "outputs": [
    {
     "data": {
      "text/plain": [
       "(256, 1025)"
      ]
     },
     "execution_count": 4,
     "metadata": {},
     "output_type": "execute_result"
    }
   ],
   "source": [
    "mels.shape"
   ]
  },
  {
   "cell_type": "code",
   "execution_count": 5,
   "id": "ca2e20e3",
   "metadata": {},
   "outputs": [
    {
     "data": {
      "text/plain": [
       "array([0.        , 0.06423059, 0.02601504, ..., 0.        , 0.        ,\n",
       "       0.        ], dtype=float32)"
      ]
     },
     "execution_count": 5,
     "metadata": {},
     "output_type": "execute_result"
    }
   ],
   "source": [
    "mels[0]"
   ]
  },
  {
   "cell_type": "code",
   "execution_count": null,
   "id": "51f825a0",
   "metadata": {},
   "outputs": [],
   "source": []
  }
 ],
 "metadata": {
  "kernelspec": {
   "display_name": "Python 3 (ipykernel)",
   "language": "python",
   "name": "python3"
  },
  "language_info": {
   "codemirror_mode": {
    "name": "ipython",
    "version": 3
   },
   "file_extension": ".py",
   "mimetype": "text/x-python",
   "name": "python",
   "nbconvert_exporter": "python",
   "pygments_lexer": "ipython3",
   "version": "3.8.12"
  }
 },
 "nbformat": 4,
 "nbformat_minor": 5
}
