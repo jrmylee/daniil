{
 "cells": [
  {
   "cell_type": "code",
   "execution_count": 1,
   "id": "65c3c42c",
   "metadata": {},
   "outputs": [
    {
     "ename": "NameError",
     "evalue": "name 'root_dir' is not defined",
     "output_type": "error",
     "traceback": [
      "\u001b[0;31m---------------------------------------------------------------------------\u001b[0m",
      "\u001b[0;31mNameError\u001b[0m                                 Traceback (most recent call last)",
      "\u001b[0;32m/var/folders/_y/mypdb6x912s_f462r_0p7s100000gn/T/ipykernel_25925/2896113971.py\u001b[0m in \u001b[0;36m<module>\u001b[0;34m\u001b[0m\n\u001b[1;32m      3\u001b[0m \u001b[0;32mimport\u001b[0m \u001b[0mos\u001b[0m\u001b[0;34m\u001b[0m\u001b[0;34m\u001b[0m\u001b[0m\n\u001b[1;32m      4\u001b[0m \u001b[0;34m\u001b[0m\u001b[0m\n\u001b[0;32m----> 5\u001b[0;31m \u001b[0;32mdef\u001b[0m \u001b[0mget_dataset\u001b[0m\u001b[0;34m(\u001b[0m\u001b[0mcsv\u001b[0m\u001b[0;34m,\u001b[0m \u001b[0mds_dir\u001b[0m\u001b[0;34m=\u001b[0m\u001b[0mroot_dir\u001b[0m\u001b[0;34m)\u001b[0m\u001b[0;34m:\u001b[0m\u001b[0;34m\u001b[0m\u001b[0;34m\u001b[0m\u001b[0m\n\u001b[0m\u001b[1;32m      6\u001b[0m     \u001b[0maudio_filenames\u001b[0m\u001b[0;34m,\u001b[0m \u001b[0mmidi_filenames\u001b[0m \u001b[0;34m=\u001b[0m \u001b[0;34m[\u001b[0m\u001b[0;34m]\u001b[0m\u001b[0;34m,\u001b[0m \u001b[0;34m[\u001b[0m\u001b[0;34m]\u001b[0m\u001b[0;34m\u001b[0m\u001b[0;34m\u001b[0m\u001b[0m\n\u001b[1;32m      7\u001b[0m     \u001b[0;32mfor\u001b[0m \u001b[0mindex\u001b[0m\u001b[0;34m,\u001b[0m \u001b[0mrow\u001b[0m \u001b[0;32min\u001b[0m \u001b[0mcsv\u001b[0m\u001b[0;34m.\u001b[0m\u001b[0miterrows\u001b[0m\u001b[0;34m(\u001b[0m\u001b[0;34m)\u001b[0m\u001b[0;34m:\u001b[0m\u001b[0;34m\u001b[0m\u001b[0;34m\u001b[0m\u001b[0m\n",
      "\u001b[0;31mNameError\u001b[0m: name 'root_dir' is not defined"
     ]
    }
   ],
   "source": [
    "import tensorflow as tf\n",
    "from loader import get_feature\n",
    "import os \n",
    "\n",
    "def get_dataset(csv, ds_dir=root_dir):\n",
    "    audio_filenames, midi_filenames = [], []\n",
    "    for index, row in csv.iterrows():\n",
    "        audio, midi = os.path.join(ds_dir, row[\"audio_filename\"]), os.path.join(ds_dir, row[\"midi_filename\"])\n",
    "        audio_filenames.append(audio)\n",
    "        midi_filenames.append(midi)\n",
    "    return audio_filenames, midi_filenames\n",
    "\n",
    "def process_audio_file(filename, save_path, sr=22050):\n",
    "    print(\"exporting stft for :\", filename)\n",
    "    x, sr = librosa.load(filename)\n",
    "    for i in range(0, len(x), 2 * sr):\n",
    "        index = i // (2 * sr)\n",
    "        y = x[i : i + 2*sr]\n",
    "        y = tf.convert_to_tensor(y)\n",
    "        mel_spec = get_feature(y)\n",
    "        tf.io.write_file(os.path.join(save_path, filename, str(index)), )\n",
    "        "
   ]
  },
  {
   "cell_type": "code",
   "execution_count": null,
   "id": "97c00796",
   "metadata": {},
   "outputs": [],
   "source": []
  }
 ],
 "metadata": {
  "kernelspec": {
   "display_name": "new_vae",
   "language": "python",
   "name": "new_vae"
  },
  "language_info": {
   "codemirror_mode": {
    "name": "ipython",
    "version": 3
   },
   "file_extension": ".py",
   "mimetype": "text/x-python",
   "name": "python",
   "nbconvert_exporter": "python",
   "pygments_lexer": "ipython3",
   "version": "3.8.7"
  }
 },
 "nbformat": 4,
 "nbformat_minor": 5
}
