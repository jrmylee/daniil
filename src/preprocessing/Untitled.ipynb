{
 "cells": [
  {
   "cell_type": "code",
   "execution_count": null,
   "id": "2d8d7e54",
   "metadata": {},
   "outputs": [],
   "source": [
    "import tensorflow as tf\n",
    "from loader import get_feature\n",
    "import os \n",
    "\n",
    "def get_dataset(csv, ds_dir=root_dir):\n",
    "    audio_filenames, midi_filenames = [], []\n",
    "    for index, row in csv.iterrows():\n",
    "        audio, midi = os.path.join(ds_dir, row[\"audio_filename\"]), os.path.join(ds_dir, row[\"midi_filename\"])\n",
    "        audio_filenames.append(audio)\n",
    "        midi_filenames.append(midi)\n",
    "    return audio_filenames, midi_filenames\n",
    "\n",
    "def process_audio_file(filename, save_path, sr=22050):\n",
    "    print(\"exporting stft for :\", filename)\n",
    "    x, sr = librosa.load(filename)\n",
    "    for i in range(0, len(x), 2 * sr):\n",
    "        index = i // (2 * sr)\n",
    "        y = x[i : i + 2*sr]\n",
    "        y = tf.convert_to_tensor(y)\n",
    "        mel_spec = get_feature(y)\n",
    "        tf.io.write_file(os.path.join(save_path, filename, str(index)), )\n",
    "        "
   ]
  }
 ],
 "metadata": {
  "kernelspec": {
   "display_name": "Python 3 (ipykernel)",
   "language": "python",
   "name": "python3"
  },
  "language_info": {
   "codemirror_mode": {
    "name": "ipython",
    "version": 3
   },
   "file_extension": ".py",
   "mimetype": "text/x-python",
   "name": "python",
   "nbconvert_exporter": "python",
   "pygments_lexer": "ipython3",
   "version": "3.8.12"
  }
 },
 "nbformat": 4,
 "nbformat_minor": 5
}
