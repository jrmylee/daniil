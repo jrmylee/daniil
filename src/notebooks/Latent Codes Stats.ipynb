{
 "cells": [
  {
   "cell_type": "code",
   "execution_count": 1,
   "id": "c75fc6a7",
   "metadata": {},
   "outputs": [],
   "source": [
    "import numpy as np\n",
    "import os \n",
    "import pandas as pd\n",
    "import matplotlib.pyplot as plt"
   ]
  },
  {
   "cell_type": "markdown",
   "id": "1845e69e",
   "metadata": {},
   "source": [
    "First, count the latent code usage for both top and bottom codemaps"
   ]
  },
  {
   "cell_type": "code",
   "execution_count": 8,
   "id": "bad36a96",
   "metadata": {},
   "outputs": [],
   "source": [
    "top_count, bottom_count = [0] * 512, [0] * 512\n",
    "\n",
    "root_dir = \"/Users/llewyn/Documents/data/stft/codes\"\n",
    "\n",
    "for file in os.listdir(root_dir):\n",
    "    file = np.load(os.path.join(root_dir, file), allow_pickle=True)\n",
    "    \n",
    "    top, bot = file[0], file[1]\n",
    "    for i in top.flatten():\n",
    "        top_count[i] += 1\n",
    "    \n",
    "    for j in bot.flatten():\n",
    "        bottom_count[j] += 1\n",
    "    "
   ]
  },
  {
   "cell_type": "code",
   "execution_count": 16,
   "id": "d1b4f418",
   "metadata": {},
   "outputs": [
    {
     "data": {
      "text/plain": [
       "327"
      ]
     },
     "execution_count": 16,
     "metadata": {},
     "output_type": "execute_result"
    }
   ],
   "source": [
    "len([b for b in bottom_count if b < 50])"
   ]
  },
  {
   "cell_type": "code",
   "execution_count": 17,
   "id": "a8880db5",
   "metadata": {},
   "outputs": [
    {
     "data": {
      "text/plain": [
       "600142812"
      ]
     },
     "execution_count": 17,
     "metadata": {},
     "output_type": "execute_result"
    }
   ],
   "source": [
    "max(bottom_count)"
   ]
  },
  {
   "cell_type": "code",
   "execution_count": 12,
   "id": "0dcc1bdb",
   "metadata": {},
   "outputs": [
    {
     "data": {
      "text/plain": [
       "[<matplotlib.lines.Line2D at 0x1370dcc40>]"
      ]
     },
     "execution_count": 12,
     "metadata": {},
     "output_type": "execute_result"
    },
    {
     "data": {
      "image/png": "[encoded data removed]",
      "text/plain": [
       "<Figure size 432x288 with 1 Axes>"
      ]
     },
     "metadata": {
      "needs_background": "light"
     },
     "output_type": "display_data"
    }
   ],
   "source": [
    "plt.plot(range(512), bottom_count)"
   ]
  },
  {
   "cell_type": "code",
   "execution_count": 13,
   "id": "17d8adcb",
   "metadata": {},
   "outputs": [
    {
     "data": {
      "text/plain": [
       "[<matplotlib.lines.Line2D at 0x137142f10>]"
      ]
     },
     "execution_count": 13,
     "metadata": {},
     "output_type": "execute_result"
    },
    {
     "data": {
      "image/png": "[encoded data removed]",
      "text/plain": [
       "<Figure size 432x288 with 1 Axes>"
      ]
     },
     "metadata": {
      "needs_background": "light"
     },
     "output_type": "display_data"
    }
   ],
   "source": [
    "plt.plot(range(512), top_count)"
   ]
  },
  {
   "cell_type": "code",
   "execution_count": 80,
   "id": "39c0358a",
   "metadata": {},
   "outputs": [],
   "source": [
    "import tensorflow as tf\n",
    "\n",
    "w_init = tf.random_uniform_initializer()\n",
    "embeddings = tf.Variable(\n",
    "    initial_value=w_init(\n",
    "        shape=(128, 128), dtype=\"float32\"\n",
    "    )\n",
    ")\n",
    "flattened_inputs = tf.Variable(\n",
    "    initial_value=w_init(\n",
    "        shape=(128 * 11, 128), dtype=\"float32\"\n",
    "    )\n",
    ")\n",
    "similarity = tf.matmul(flattened_inputs, embeddings)"
   ]
  },
  {
   "cell_type": "code",
   "execution_count": 24,
   "id": "5049905d",
   "metadata": {},
   "outputs": [],
   "source": [
    "distances = (\n",
    "            tf.reduce_sum(flattened_inputs ** 2, axis=1, keepdims=True)\n",
    "            + tf.reduce_sum(embeddings ** 2, axis=0)\n",
    "            - 2 * similarity\n",
    "        )"
   ]
  },
  {
   "cell_type": "code",
   "execution_count": 64,
   "id": "b8f6d2c5",
   "metadata": {
    "scrolled": true
   },
   "outputs": [],
   "source": [
    "encoding_indices = tf.argmin(distances, axis=1)"
   ]
  },
  {
   "cell_type": "code",
   "execution_count": 128,
   "id": "3427cf56",
   "metadata": {},
   "outputs": [],
   "source": [
    "embeddings_count = tf.Variable([0] * 128, shape=(128, ))\n",
    "num_iterations = tf.Variable(1, name='num_iterations', trainable=False, dtype=tf.int32)\n",
    "reset_threshold = tf.Variable(1 / 128, name='threshold', trainable=False, dtype=tf.double)"
   ]
  },
  {
   "cell_type": "code",
   "execution_count": 139,
   "id": "7aa67ce5",
   "metadata": {},
   "outputs": [
    {
     "data": {
      "text/plain": [
       "<tf.Variable 'Variable:0' shape=(128,) dtype=int32, numpy=\n",
       "array([ 88, 172,   4,  16,  16,  32,  64,  52,  24,  32,  64,   0,  44,\n",
       "         0,  68,  28,   4,  72,  16,  44,  64,  60,   8,   8,  72, 100,\n",
       "         8,   0, 100,  48,  68,  72,   8,  28, 128,  24,  20,  84,  12,\n",
       "       112,   4,  88,   0,  40,  24,  36,  56,  32, 144,  44,  60,  12,\n",
       "         4,   0,  68,  12,  96,   4,  12,  16,  16, 276,   4,  96,  40,\n",
       "        24,   8,  40,   8,  16,  48,   4,  56,   4,  16,  32,  28,  12,\n",
       "         8,  28,  52,  12,  28,  52, 104, 384,   8,  24,  56,   8,  68,\n",
       "        56,   4,   8,  36,  16, 220,   4,  36,  60,   8,   8,  40,  60,\n",
       "        16,   0,  12,  16,   8, 252,   0,   0,   4,  16,   4,  12,  16,\n",
       "        92,  68,  32,   4,  32,  96,  56,  48,  28,   0,  88], dtype=int32)>"
      ]
     },
     "execution_count": 139,
     "metadata": {},
     "output_type": "execute_result"
    }
   ],
   "source": [
    "num_iterations.assign_add(flattened_inputs.shape[0])\n",
    "for index in tf.unstack(encoding_indices):\n",
    "    embeddings_count[index].assign(embeddings_count[index] + 1)\n",
    "    if embeddings_count[index] / num_iterations < reset_threshold:\n",
    "        rand_index = tf.random.uniform(shape=[], minval=0, maxval=128, dtype=tf.int64)\n",
    "        embeddings = update_columns(embeddings, index, flattened_inputs[rand_index])\n"
   ]
  },
  {
   "cell_type": "code",
   "execution_count": 113,
   "id": "b6541d96",
   "metadata": {},
   "outputs": [],
   "source": [
    "def update_columns(variable, columns, updates):\n",
    "    value = tf.expand_dims(updates,1)\n",
    "    columns = tf.convert_to_tensor(columns)\n",
    "    rows = tf.range(tf.shape(variable)[0], dtype=columns.dtype)\n",
    "    ii, jj = tf.meshgrid(rows, columns, indexing='ij')\n",
    "    value = tf.broadcast_to(value, tf.shape(ii))\n",
    "    return tf.tensor_scatter_nd_update(variable, tf.stack([ii, jj], axis=-1), value)"
   ]
  },
  {
   "cell_type": "code",
   "execution_count": 116,
   "id": "0f9258a2",
   "metadata": {},
   "outputs": [
    {
     "data": {
      "text/plain": [
       "1197"
      ]
     },
     "execution_count": 116,
     "metadata": {},
     "output_type": "execute_result"
    }
   ],
   "source": [
    "random_update_count"
   ]
  },
  {
   "cell_type": "code",
   "execution_count": 120,
   "id": "a1680bb5",
   "metadata": {},
   "outputs": [
    {
     "data": {
      "text/plain": [
       "<tf.Tensor: shape=(), dtype=int64, numpy=41>"
      ]
     },
     "execution_count": 120,
     "metadata": {},
     "output_type": "execute_result"
    }
   ],
   "source": [
    "tf.random.uniform(shape=[], minval=0, maxval=128, dtype=tf.int64)\n"
   ]
  },
  {
   "cell_type": "code",
   "execution_count": 123,
   "id": "a373d43b",
   "metadata": {},
   "outputs": [],
   "source": [
    "embeddings_count = tf.Variable([0] * 128, shape=(128, ))"
   ]
  },
  {
   "cell_type": "code",
   "execution_count": 138,
   "id": "33b3afb8",
   "metadata": {},
   "outputs": [
    {
     "data": {
      "text/plain": [
       "<tf.Variable 'Variable:0' shape=(128,) dtype=int32, numpy=\n",
       "array([ 66, 129,   3,  12,  12,  24,  48,  39,  18,  24,  48,   0,  33,\n",
       "         0,  51,  21,   3,  54,  12,  33,  48,  45,   6,   6,  54,  75,\n",
       "         6,   0,  75,  36,  51,  54,   6,  21,  96,  18,  15,  63,   9,\n",
       "        84,   3,  66,   0,  30,  18,  27,  42,  24, 108,  33,  45,   9,\n",
       "         3,   0,  51,   9,  72,   3,   9,  12,  12, 207,   3,  72,  30,\n",
       "        18,   6,  30,   6,  12,  36,   3,  42,   3,  12,  24,  21,   9,\n",
       "         6,  21,  39,   9,  21,  39,  78, 288,   6,  18,  42,   6,  51,\n",
       "        42,   3,   6,  27,  12, 165,   3,  27,  45,   6,   6,  30,  45,\n",
       "        12,   0,   9,  12,   6, 189,   0,   0,   3,  12,   3,   9,  12,\n",
       "        69,  51,  24,   3,  24,  72,  42,  36,  21,   0,  66], dtype=int32)>"
      ]
     },
     "execution_count": 138,
     "metadata": {},
     "output_type": "execute_result"
    }
   ],
   "source": [
    "embeddings_count"
   ]
  },
  {
   "cell_type": "code",
   "execution_count": 132,
   "id": "30061e21",
   "metadata": {},
   "outputs": [
    {
     "data": {
      "text/plain": [
       "<tf.Variable 'num_iterations:0' shape=() dtype=int32, numpy=1409>"
      ]
     },
     "execution_count": 132,
     "metadata": {},
     "output_type": "execute_result"
    }
   ],
   "source": [
    "num_iterations"
   ]
  },
  {
   "cell_type": "code",
   "execution_count": 141,
   "id": "59442c91",
   "metadata": {},
   "outputs": [
    {
     "data": {
      "text/plain": [
       "0.09155429382540808"
      ]
     },
     "execution_count": 141,
     "metadata": {},
     "output_type": "execute_result"
    }
   ],
   "source": [
    "129/1409"
   ]
  },
  {
   "cell_type": "code",
   "execution_count": null,
   "id": "18746b42",
   "metadata": {},
   "outputs": [],
   "source": []
  }
 ],
 "metadata": {
  "kernelspec": {
   "display_name": "Python 3 (ipykernel)",
   "language": "python",
   "name": "python3"
  },
  "language_info": {
   "codemirror_mode": {
    "name": "ipython",
    "version": 3
   },
   "file_extension": ".py",
   "mimetype": "text/x-python",
   "name": "python",
   "nbconvert_exporter": "python",
   "pygments_lexer": "ipython3",
   "version": "3.9.7"
  }
 },
 "nbformat": 4,
 "nbformat_minor": 5
}
